{
 "cells": [
  {
   "cell_type": "markdown",
   "metadata": {},
   "source": [
    "# Generative Adversarial Networks"
   ]
  },
  {
   "cell_type": "markdown",
   "metadata": {},
   "source": [
    "GANs were first reported in 2014. They have the capability to generate new samples similar to the data they were trained on. For example, creating new faces after being trained on large datasets of faces.\n",
    "\n",
    "We'll build two networks, a generator and a discriminator. The idea is that we are training a generator to produce samples that the discriminator compares against a sample of real data. Eventually, the generator is able to fool the discriminator into passing a generated sample as real.\n",
    "\n",
    "The coding is essentially really simple; the real thing is tuning the hyperparameters and the training time involved.\n",
    "\n",
    "- Discriminator overpowering Generator:\n",
    "\n",
    "If the discriminator classifies all examples as fake, there is no progress. You may want to have discriminator ouput be unscaled instead of sigmoid.\n",
    "\n",
    "- Generator overpowering Discriminator: Mode Collapse\n",
    "\n",
    "The generator discovers some weakness in the discriminator, and the generator ends up producing a similar example regardless of variation in input. You can try adjusting the training rate or changing layers of the discriminator in an attempt to make it better.\n",
    "\n",
    "GANs are so powerful, they are limited by the hardware that you are using.\n",
    "\n"
   ]
  },
  {
   "cell_type": "markdown",
   "metadata": {},
   "source": [
    "# Generate numbers based off the MNIST dataset"
   ]
  },
  {
   "cell_type": "code",
   "execution_count": 3,
   "metadata": {},
   "outputs": [],
   "source": [
    "import tensorflow as tf\n",
    "import numpy as np\n",
    "import matplotlib.pyplot as plt\n",
    "%matplotlib inline"
   ]
  },
  {
   "cell_type": "code",
   "execution_count": 4,
   "metadata": {},
   "outputs": [],
   "source": [
    "from tensorflow.examples.tutorials.mnist import input_data"
   ]
  },
  {
   "cell_type": "code",
   "execution_count": 5,
   "metadata": {},
   "outputs": [
    {
     "name": "stdout",
     "output_type": "stream",
     "text": [
      "WARNING:tensorflow:From <ipython-input-5-6f8a0212a6c1>:1: read_data_sets (from tensorflow.contrib.learn.python.learn.datasets.mnist) is deprecated and will be removed in a future version.\n",
      "Instructions for updating:\n",
      "Please use alternatives such as official/mnist/dataset.py from tensorflow/models.\n",
      "WARNING:tensorflow:From /home/alvaro/anaconda/lib/python3.6/site-packages/tensorflow/contrib/learn/python/learn/datasets/mnist.py:260: maybe_download (from tensorflow.contrib.learn.python.learn.datasets.base) is deprecated and will be removed in a future version.\n",
      "Instructions for updating:\n",
      "Please write your own downloading logic.\n",
      "WARNING:tensorflow:From /home/alvaro/anaconda/lib/python3.6/site-packages/tensorflow/contrib/learn/python/learn/datasets/mnist.py:262: extract_images (from tensorflow.contrib.learn.python.learn.datasets.mnist) is deprecated and will be removed in a future version.\n",
      "Instructions for updating:\n",
      "Please use tf.data to implement this functionality.\n",
      "Extracting ../03-Convolutional-Neural-Networks/MNIST_data/train-images-idx3-ubyte.gz\n",
      "WARNING:tensorflow:From /home/alvaro/anaconda/lib/python3.6/site-packages/tensorflow/contrib/learn/python/learn/datasets/mnist.py:267: extract_labels (from tensorflow.contrib.learn.python.learn.datasets.mnist) is deprecated and will be removed in a future version.\n",
      "Instructions for updating:\n",
      "Please use tf.data to implement this functionality.\n",
      "Extracting ../03-Convolutional-Neural-Networks/MNIST_data/train-labels-idx1-ubyte.gz\n",
      "WARNING:tensorflow:From /home/alvaro/anaconda/lib/python3.6/site-packages/tensorflow/contrib/learn/python/learn/datasets/mnist.py:110: dense_to_one_hot (from tensorflow.contrib.learn.python.learn.datasets.mnist) is deprecated and will be removed in a future version.\n",
      "Instructions for updating:\n",
      "Please use tf.one_hot on tensors.\n",
      "Extracting ../03-Convolutional-Neural-Networks/MNIST_data/t10k-images-idx3-ubyte.gz\n",
      "Extracting ../03-Convolutional-Neural-Networks/MNIST_data/t10k-labels-idx1-ubyte.gz\n",
      "WARNING:tensorflow:From /home/alvaro/anaconda/lib/python3.6/site-packages/tensorflow/contrib/learn/python/learn/datasets/mnist.py:290: DataSet.__init__ (from tensorflow.contrib.learn.python.learn.datasets.mnist) is deprecated and will be removed in a future version.\n",
      "Instructions for updating:\n",
      "Please use alternatives such as official/mnist/dataset.py from tensorflow/models.\n"
     ]
    }
   ],
   "source": [
    "mnist = input_data.read_data_sets(\"../03-Convolutional-Neural-Networks/MNIST_data/\", one_hot=True)"
   ]
  },
  {
   "cell_type": "code",
   "execution_count": 12,
   "metadata": {},
   "outputs": [
    {
     "data": {
      "image/png": "[encoded data removed]",
      "text/plain": [
       "<Figure size 432x288 with 1 Axes>"
      ]
     },
     "metadata": {},
     "output_type": "display_data"
    }
   ],
   "source": [
    "plt.imshow(mnist.train.images[14].reshape(28, 28));"
   ]
  },
  {
   "cell_type": "code",
   "execution_count": 13,
   "metadata": {},
   "outputs": [],
   "source": [
    "# Generator\n",
    "def generator(z, reuse=None):\n",
    "    # gen for generator. The goal is to allow to have modular sections of parameters.\n",
    "    with tf.variable_scope('gen', reuse=reuse):\n",
    "        hidden1 = tf.layers.dense(inputs=z, units=128)\n",
    "        \n",
    "        # leaky relu\n",
    "        alpha = 0.01\n",
    "        hidden1 = tf.maximum(alpha*hidden1, hidden1)\n",
    "        \n",
    "        # second layer, same thing\n",
    "        hidden2 = tf.layers.dense(inputs=hidden1, units=128)\n",
    "        hidden2 = tf.maximum(alpha*hidden2, hidden2)\n",
    "        \n",
    "        # output\n",
    "        output = tf.layers.dense(hidden2, units=784, activation=tf.nn.tanh)\n",
    "        \n",
    "        return output      \n",
    "        \n",
    "        "
   ]
  },
  {
   "cell_type": "code",
   "execution_count": 15,
   "metadata": {},
   "outputs": [],
   "source": [
    "# Discriminator\n",
    "def discriminator(z, reuse=None):\n",
    "    # dis for discriminator. The goal is to allow to have modular sections of parameters.\n",
    "    with tf.variable_scope('dis', reuse=reuse):\n",
    "        hidden1 = tf.layers.dense(inputs=z, units=128)\n",
    "        \n",
    "        # leaky relu\n",
    "        alpha = 0.01\n",
    "        hidden1 = tf.maximum(alpha*hidden1, hidden1)\n",
    "        \n",
    "        # second layer, same thing\n",
    "        hidden2 = tf.layers.dense(inputs=hidden1, units=128)\n",
    "        hidden2 = tf.maximum(alpha*hidden2, hidden2)\n",
    "        \n",
    "        # output\n",
    "        logits = tf.layers.dense(hidden2, units=1) # probability of being real/fake\n",
    "        output = tf.sigmoid(logits)\n",
    "        \n",
    "        return output, logits"
   ]
  },
  {
   "cell_type": "code",
   "execution_count": 16,
   "metadata": {},
   "outputs": [],
   "source": [
    "# Real Images\n",
    "real_images = tf.placeholder(tf.float32, shape=[None, 784])\n",
    "\n",
    "# Noise\n",
    "z = tf.placeholder(tf.float32, shape=[None, 100])\n",
    "\n",
    "# Generator and Discriminator\n",
    "G = generator(z)\n",
    "D_output_real, D_logits_real = discriminator(real_images)"
   ]
  },
  {
   "cell_type": "code",
   "execution_count": 17,
   "metadata": {},
   "outputs": [],
   "source": [
    "D_output_fake, D_logits_fake = discriminator(G, reuse=True)"
   ]
  },
  {
   "cell_type": "code",
   "execution_count": 18,
   "metadata": {},
   "outputs": [],
   "source": [
    "# Losses\n",
    "def loss_function(logits_in, labels_in):\n",
    "    return tf.reduce_mean(tf.nn.sigmoid_cross_entropy_with_logits(logits=logits_in, labels=labels_in))"
   ]
  },
  {
   "cell_type": "code",
   "execution_count": 19,
   "metadata": {},
   "outputs": [],
   "source": [
    "D_real_loss = loss_function(D_logits_real, tf.ones_like(D_logits_real)*0.9) # I want all elements to be REAL (times smoothing factor 0.9)\n",
    "\n",
    "D_fake_loss = loss_function(D_logits_fake, tf.zeros_like(D_logits_real))\n",
    "\n",
    "D_loss = D_real_loss + D_fake_loss"
   ]
  },
  {
   "cell_type": "code",
   "execution_count": 20,
   "metadata": {},
   "outputs": [],
   "source": [
    "G_loss = loss_function(D_logits_fake, tf.ones_like(D_logits_fake))"
   ]
  },
  {
   "cell_type": "code",
   "execution_count": 21,
   "metadata": {},
   "outputs": [],
   "source": [
    "learning_rate = 0.001"
   ]
  },
  {
   "cell_type": "code",
   "execution_count": 22,
   "metadata": {},
   "outputs": [],
   "source": [
    "tvars = tf.trainable_variables()\n",
    "\n",
    "d_vars = [var for var in tvars if 'dis' in var.name]\n",
    "g_vars = [var for var in tvars if 'gen' in var.name]"
   ]
  },
  {
   "cell_type": "code",
   "execution_count": 23,
   "metadata": {},
   "outputs": [],
   "source": [
    "D_trainer = tf.train.AdamOptimizer(learning_rate).minimize(D_loss, var_list=d_vars)\n",
    "G_trainer = tf.train.AdamOptimizer(learning_rate).minimize(G_loss, var_list=g_vars)"
   ]
  },
  {
   "cell_type": "code",
   "execution_count": 33,
   "metadata": {},
   "outputs": [],
   "source": [
    "# Training Session\n",
    "batch_size = 1000\n",
    "epochs = 100\n",
    "init = tf.global_variables_initializer()\n",
    "\n",
    "samples = []"
   ]
  },
  {
   "cell_type": "code",
   "execution_count": 34,
   "metadata": {},
   "outputs": [
    {
     "name": "stdout",
     "output_type": "stream",
     "text": [
      "On Epoch 0\n",
      "On Epoch 1\n",
      "On Epoch 2\n",
      "On Epoch 3\n",
      "On Epoch 4\n",
      "On Epoch 5\n",
      "On Epoch 6\n",
      "On Epoch 7\n",
      "On Epoch 8\n",
      "On Epoch 9\n",
      "On Epoch 10\n",
      "On Epoch 11\n",
      "On Epoch 12\n",
      "On Epoch 13\n",
      "On Epoch 14\n",
      "On Epoch 15\n",
      "On Epoch 16\n",
      "On Epoch 17\n",
      "On Epoch 18\n",
      "On Epoch 19\n",
      "On Epoch 20\n",
      "On Epoch 21\n",
      "On Epoch 22\n",
      "On Epoch 23\n",
      "On Epoch 24\n",
      "On Epoch 25\n",
      "On Epoch 26\n",
      "On Epoch 27\n",
      "On Epoch 28\n",
      "On Epoch 29\n",
      "On Epoch 30\n",
      "On Epoch 31\n",
      "On Epoch 32\n",
      "On Epoch 33\n",
      "On Epoch 34\n",
      "On Epoch 35\n",
      "On Epoch 36\n",
      "On Epoch 37\n",
      "On Epoch 38\n",
      "On Epoch 39\n",
      "On Epoch 40\n",
      "On Epoch 41\n",
      "On Epoch 42\n",
      "On Epoch 43\n",
      "On Epoch 44\n",
      "On Epoch 45\n",
      "On Epoch 46\n",
      "On Epoch 47\n",
      "On Epoch 48\n",
      "On Epoch 49\n",
      "On Epoch 50\n",
      "On Epoch 51\n",
      "On Epoch 52\n",
      "On Epoch 53\n",
      "On Epoch 54\n",
      "On Epoch 55\n",
      "On Epoch 56\n",
      "On Epoch 57\n",
      "On Epoch 58\n",
      "On Epoch 59\n",
      "On Epoch 60\n",
      "On Epoch 61\n",
      "On Epoch 62\n",
      "On Epoch 63\n",
      "On Epoch 64\n",
      "On Epoch 65\n",
      "On Epoch 66\n",
      "On Epoch 67\n",
      "On Epoch 68\n",
      "On Epoch 69\n",
      "On Epoch 70\n",
      "On Epoch 71\n",
      "On Epoch 72\n",
      "On Epoch 73\n",
      "On Epoch 74\n",
      "On Epoch 75\n",
      "On Epoch 76\n",
      "On Epoch 77\n",
      "On Epoch 78\n",
      "On Epoch 79\n",
      "On Epoch 80\n",
      "On Epoch 81\n",
      "On Epoch 82\n",
      "On Epoch 83\n",
      "On Epoch 84\n",
      "On Epoch 85\n",
      "On Epoch 86\n",
      "On Epoch 87\n",
      "On Epoch 88\n",
      "On Epoch 89\n",
      "On Epoch 90\n",
      "On Epoch 91\n",
      "On Epoch 92\n",
      "On Epoch 93\n",
      "On Epoch 94\n",
      "On Epoch 95\n",
      "On Epoch 96\n",
      "On Epoch 97\n",
      "On Epoch 98\n",
      "On Epoch 99\n"
     ]
    }
   ],
   "source": [
    "with tf.Session() as sess:\n",
    "    sess.run(init)\n",
    "    \n",
    "    for epoch in range(epochs):\n",
    "        \n",
    "        num_batches = mnist.train.num_examples // batch_size\n",
    "        \n",
    "        for i in range(num_batches):\n",
    "            \n",
    "            batch = mnist.train.next_batch(batch_size)\n",
    "            \n",
    "            batch_images = batch[0].reshape((batch_size, 784))\n",
    "            batch_images = batch_images * 2 - 1 # rescale for the tanh\n",
    "            \n",
    "            batch_z = np.random.uniform(-1, 1, size=(batch_size, 100))\n",
    "            \n",
    "            _ = sess.run(D_trainer, feed_dict={real_images:batch_images, z:batch_z})\n",
    "            \n",
    "            _ = sess.run(G_trainer, feed_dict={z:batch_z})\n",
    "        \n",
    "        print('On Epoch {}'.format(epoch))\n",
    "        \n",
    "        sample_z = np.random.uniform(-1, 1, size=(1, 100))\n",
    "        gen_sample = sess.run(generator(z, reuse=True), feed_dict={z:sample_z})\n",
    "        \n",
    "        samples.append(gen_sample)\n",
    "    "
   ]
  },
  {
   "cell_type": "code",
   "execution_count": 40,
   "metadata": {},
   "outputs": [
    {
     "data": {
      "image/png": "[encoded data removed]",
      "text/plain": [
       "<Figure size 432x288 with 1 Axes>"
      ]
     },
     "metadata": {},
     "output_type": "display_data"
    }
   ],
   "source": [
    "plt.imshow(samples[-1].reshape(28, 28)); # just noise"
   ]
  },
  {
   "cell_type": "code",
   "execution_count": null,
   "metadata": {},
   "outputs": [],
   "source": []
  }
 ],
 "metadata": {
  "kernelspec": {
   "display_name": "Python 3",
   "language": "python",
   "name": "python3"
  },
  "language_info": {
   "codemirror_mode": {
    "name": "ipython",
    "version": 3
   },
   "file_extension": ".py",
   "mimetype": "text/x-python",
   "name": "python",
   "nbconvert_exporter": "python",
   "pygments_lexer": "ipython3",
   "version": "3.6.4"
  }
 },
 "nbformat": 4,
 "nbformat_minor": 2
}
