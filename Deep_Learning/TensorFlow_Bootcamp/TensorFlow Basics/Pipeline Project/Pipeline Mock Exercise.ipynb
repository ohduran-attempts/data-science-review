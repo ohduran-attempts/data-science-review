{
 "cells": [
  {
   "cell_type": "code",
   "execution_count": 1,
   "metadata": {},
   "outputs": [],
   "source": [
    "import pandas as pd\n",
    "import numpy as np\n",
    "import matplotlib.pyplot as plt\n",
    "import seaborn as sns\n",
    "%matplotlib inline"
   ]
  },
  {
   "cell_type": "code",
   "execution_count": 2,
   "metadata": {},
   "outputs": [
    {
     "name": "stderr",
     "output_type": "stream",
     "text": [
      "/home/alvaro/anaconda/lib/python3.6/site-packages/h5py/__init__.py:36: FutureWarning: Conversion of the second argument of issubdtype from `float` to `np.floating` is deprecated. In future, it will be treated as `np.float64 == np.dtype(float).type`.\n",
      "  from ._conv import register_converters as _register_converters\n"
     ]
    }
   ],
   "source": [
    "import tensorflow as tf"
   ]
  },
  {
   "cell_type": "code",
   "execution_count": 3,
   "metadata": {},
   "outputs": [],
   "source": [
    "pipeline = pd.read_csv('Pipeline Mock Data.csv')"
   ]
  },
  {
   "cell_type": "code",
   "execution_count": 4,
   "metadata": {},
   "outputs": [
    {
     "data": {
      "text/html": [
       "<div>\n",
       "<style scoped>\n",
       "    .dataframe tbody tr th:only-of-type {\n",
       "        vertical-align: middle;\n",
       "    }\n",
       "\n",
       "    .dataframe tbody tr th {\n",
       "        vertical-align: top;\n",
       "    }\n",
       "\n",
       "    .dataframe thead th {\n",
       "        text-align: right;\n",
       "    }\n",
       "</style>\n",
       "<table border=\"1\" class=\"dataframe\">\n",
       "  <thead>\n",
       "    <tr style=\"text-align: right;\">\n",
       "      <th></th>\n",
       "      <th>Key</th>\n",
       "      <th>OpportunityKey</th>\n",
       "      <th>Business_Line</th>\n",
       "      <th>Fundraise_Name</th>\n",
       "      <th>Adviser_Or_Direct</th>\n",
       "      <th>Adviser_Code</th>\n",
       "      <th>Investor_Code</th>\n",
       "      <th>Intermediary_Code</th>\n",
       "      <th>OpportunityStatus</th>\n",
       "    </tr>\n",
       "  </thead>\n",
       "  <tbody>\n",
       "    <tr>\n",
       "      <th>0</th>\n",
       "      <td>1</td>\n",
       "      <td>757</td>\n",
       "      <td>IHT</td>\n",
       "      <td>Fundraiser_1</td>\n",
       "      <td>Direct</td>\n",
       "      <td>CON55826</td>\n",
       "      <td>CON47206</td>\n",
       "      <td>COM87187</td>\n",
       "      <td>Lost</td>\n",
       "    </tr>\n",
       "    <tr>\n",
       "      <th>1</th>\n",
       "      <td>2</td>\n",
       "      <td>792</td>\n",
       "      <td>AIM</td>\n",
       "      <td>Fundraiser_1</td>\n",
       "      <td>Direct</td>\n",
       "      <td>CON24585</td>\n",
       "      <td>CON30574</td>\n",
       "      <td>COM54565</td>\n",
       "      <td>Won</td>\n",
       "    </tr>\n",
       "    <tr>\n",
       "      <th>2</th>\n",
       "      <td>3</td>\n",
       "      <td>7</td>\n",
       "      <td>Labs</td>\n",
       "      <td>Fundraiser_5</td>\n",
       "      <td>Direct</td>\n",
       "      <td>CON86314</td>\n",
       "      <td>CON20624</td>\n",
       "      <td>COM86775</td>\n",
       "      <td>Lost</td>\n",
       "    </tr>\n",
       "    <tr>\n",
       "      <th>3</th>\n",
       "      <td>4</td>\n",
       "      <td>993</td>\n",
       "      <td>Labs</td>\n",
       "      <td>Fundraiser_0</td>\n",
       "      <td>Adviser</td>\n",
       "      <td>CON21625</td>\n",
       "      <td>CON48922</td>\n",
       "      <td>COM42671</td>\n",
       "      <td>Won</td>\n",
       "    </tr>\n",
       "    <tr>\n",
       "      <th>4</th>\n",
       "      <td>5</td>\n",
       "      <td>968</td>\n",
       "      <td>OITS</td>\n",
       "      <td>Fundraiser_7</td>\n",
       "      <td>Direct</td>\n",
       "      <td>CON57508</td>\n",
       "      <td>CON98028</td>\n",
       "      <td>COM60911</td>\n",
       "      <td>Lost</td>\n",
       "    </tr>\n",
       "  </tbody>\n",
       "</table>\n",
       "</div>"
      ],
      "text/plain": [
       "   Key  OpportunityKey Business_Line Fundraise_Name Adviser_Or_Direct  \\\n",
       "0    1             757           IHT   Fundraiser_1            Direct   \n",
       "1    2             792           AIM   Fundraiser_1            Direct   \n",
       "2    3               7          Labs   Fundraiser_5            Direct   \n",
       "3    4             993          Labs   Fundraiser_0           Adviser   \n",
       "4    5             968          OITS   Fundraiser_7            Direct   \n",
       "\n",
       "  Adviser_Code Investor_Code Intermediary_Code OpportunityStatus  \n",
       "0     CON55826      CON47206          COM87187              Lost  \n",
       "1     CON24585      CON30574          COM54565               Won  \n",
       "2     CON86314      CON20624          COM86775              Lost  \n",
       "3     CON21625      CON48922          COM42671               Won  \n",
       "4     CON57508      CON98028          COM60911              Lost  "
      ]
     },
     "execution_count": 4,
     "metadata": {},
     "output_type": "execute_result"
    }
   ],
   "source": [
    "pipeline.head()"
   ]
  },
  {
   "cell_type": "markdown",
   "metadata": {},
   "source": [
    "** TensorFlow won't be able to understand strings as labels, you'll need to use pandas .apply() method to apply a custom function that converts them to 0s and 1s. This might be hard if you aren't very familiar with pandas, so feel free to take a peek at the solutions for this part.**\n",
    "\n",
    "** Convert the Label column to 0s and 1s instead of strings.**"
   ]
  },
  {
   "cell_type": "code",
   "execution_count": 5,
   "metadata": {},
   "outputs": [
    {
     "data": {
      "text/plain": [
       "array(['Lost', 'Won'], dtype=object)"
      ]
     },
     "execution_count": 5,
     "metadata": {},
     "output_type": "execute_result"
    }
   ],
   "source": [
    "pipeline['OpportunityStatus'].unique()"
   ]
  },
  {
   "cell_type": "code",
   "execution_count": 6,
   "metadata": {},
   "outputs": [],
   "source": [
    "def label_fix(label):\n",
    "    if label == 'Won':\n",
    "        return 1\n",
    "    return 0"
   ]
  },
  {
   "cell_type": "code",
   "execution_count": 7,
   "metadata": {},
   "outputs": [],
   "source": [
    "pipeline['OpportunityStatus'] = pipeline['OpportunityStatus'].apply(lambda x:label_fix(x))"
   ]
  },
  {
   "cell_type": "code",
   "execution_count": 8,
   "metadata": {},
   "outputs": [
    {
     "data": {
      "text/plain": [
       "array([0, 1])"
      ]
     },
     "execution_count": 8,
     "metadata": {},
     "output_type": "execute_result"
    }
   ],
   "source": [
    "pipeline['OpportunityStatus'].unique()"
   ]
  },
  {
   "cell_type": "markdown",
   "metadata": {},
   "source": [
    "### Perform a Train Test Split on the Data"
   ]
  },
  {
   "cell_type": "code",
   "execution_count": 9,
   "metadata": {},
   "outputs": [],
   "source": [
    "from sklearn.model_selection import train_test_split"
   ]
  },
  {
   "cell_type": "code",
   "execution_count": 10,
   "metadata": {},
   "outputs": [],
   "source": [
    "X = pipeline.drop(['OpportunityStatus', 'Key', 'OpportunityKey'], axis=1)\n",
    "y = pipeline['OpportunityStatus']\n",
    "\n",
    "X_train, X_test, y_train, y_test = train_test_split(X, y, test_size=0.3)"
   ]
  },
  {
   "cell_type": "markdown",
   "metadata": {},
   "source": [
    "### Feature Columns"
   ]
  },
  {
   "cell_type": "code",
   "execution_count": 11,
   "metadata": {},
   "outputs": [
    {
     "data": {
      "text/plain": [
       "Index(['Business_Line', 'Fundraise_Name', 'Adviser_Or_Direct', 'Adviser_Code',\n",
       "       'Investor_Code', 'Intermediary_Code'],\n",
       "      dtype='object')"
      ]
     },
     "execution_count": 11,
     "metadata": {},
     "output_type": "execute_result"
    }
   ],
   "source": [
    "X.columns"
   ]
  },
  {
   "cell_type": "code",
   "execution_count": 12,
   "metadata": {},
   "outputs": [],
   "source": [
    "business_line = tf.feature_column.categorical_column_with_vocabulary_list('Business_Line', X['Business_Line'].unique())\n",
    "fundraise_name = tf.feature_column.categorical_column_with_vocabulary_list('Fundraise_Name', X['Fundraise_Name'].unique())\n",
    "adviser_or_direct = tf.feature_column.categorical_column_with_vocabulary_list('Adviser_Or_Direct', X['Adviser_Or_Direct'].unique())\n",
    "adviser_code = tf.feature_column.categorical_column_with_vocabulary_list('Adviser_Code', X['Adviser_Code'].unique())\n",
    "investor_code = tf.feature_column.categorical_column_with_vocabulary_list('Investor_Code', X['Investor_Code'].unique())\n",
    "intermediary_code = tf.feature_column.categorical_column_with_vocabulary_list('Intermediary_Code', X['Intermediary_Code'].unique())"
   ]
  },
  {
   "cell_type": "code",
   "execution_count": 13,
   "metadata": {},
   "outputs": [],
   "source": [
    "feat_cols = [business_line, fundraise_name, adviser_or_direct, adviser_code, investor_code, intermediary_code]"
   ]
  },
  {
   "cell_type": "markdown",
   "metadata": {},
   "source": [
    "### Create Input Function"
   ]
  },
  {
   "cell_type": "code",
   "execution_count": 14,
   "metadata": {},
   "outputs": [],
   "source": [
    "input_func = tf.estimator.inputs.pandas_input_fn(x=X_train, y=y_train, batch_size=10, shuffle=True)"
   ]
  },
  {
   "cell_type": "code",
   "execution_count": 29,
   "metadata": {},
   "outputs": [
    {
     "name": "stdout",
     "output_type": "stream",
     "text": [
      "INFO:tensorflow:Using default config.\n",
      "WARNING:tensorflow:Using temporary folder as model directory: /tmp/tmpo0d4nv0_\n",
      "INFO:tensorflow:Using config: {'_model_dir': '/tmp/tmpo0d4nv0_', '_tf_random_seed': None, '_save_summary_steps': 100, '_save_checkpoints_steps': None, '_save_checkpoints_secs': 600, '_session_config': None, '_keep_checkpoint_max': 5, '_keep_checkpoint_every_n_hours': 10000, '_log_step_count_steps': 100, '_train_distribute': None, '_service': None, '_cluster_spec': <tensorflow.python.training.server_lib.ClusterSpec object at 0x7fe0eb780630>, '_task_type': 'worker', '_task_id': 0, '_global_id_in_cluster': 0, '_master': '', '_evaluation_master': '', '_is_chief': True, '_num_ps_replicas': 0, '_num_worker_replicas': 1}\n"
     ]
    }
   ],
   "source": [
    "model = tf.estimator.LinearClassifier(feature_columns=feat_cols, n_classes=2)\n",
    "#model = tf.estimator.BoostedTreesClassifier(feature_columns=feat_cols, n_classes=2, n_batches_per_layer=10)"
   ]
  },
  {
   "cell_type": "code",
   "execution_count": 30,
   "metadata": {},
   "outputs": [
    {
     "name": "stdout",
     "output_type": "stream",
     "text": [
      "INFO:tensorflow:Calling model_fn.\n",
      "INFO:tensorflow:Done calling model_fn.\n",
      "INFO:tensorflow:Create CheckpointSaverHook.\n",
      "INFO:tensorflow:Graph was finalized.\n",
      "INFO:tensorflow:Running local_init_op.\n",
      "INFO:tensorflow:Done running local_init_op.\n",
      "INFO:tensorflow:Saving checkpoints for 1 into /tmp/tmpo0d4nv0_/model.ckpt.\n",
      "INFO:tensorflow:loss = 6.931472, step = 1\n",
      "INFO:tensorflow:Saving checkpoints for 7 into /tmp/tmpo0d4nv0_/model.ckpt.\n",
      "INFO:tensorflow:Loss for final step: 7.0054646.\n"
     ]
    },
    {
     "data": {
      "text/plain": [
       "<tensorflow.python.estimator.canned.linear.LinearClassifier at 0x7fe0eb780400>"
      ]
     },
     "execution_count": 30,
     "metadata": {},
     "output_type": "execute_result"
    }
   ],
   "source": [
    "model.train(input_fn=input_func, steps=5000)"
   ]
  },
  {
   "cell_type": "markdown",
   "metadata": {},
   "source": [
    "### Evaluation"
   ]
  },
  {
   "cell_type": "code",
   "execution_count": 17,
   "metadata": {},
   "outputs": [],
   "source": [
    "pred_input_func = tf.estimator.inputs.pandas_input_fn(x=X_test, shuffle=False)"
   ]
  },
  {
   "cell_type": "code",
   "execution_count": 18,
   "metadata": {},
   "outputs": [
    {
     "name": "stdout",
     "output_type": "stream",
     "text": [
      "INFO:tensorflow:Calling model_fn.\n",
      "INFO:tensorflow:Done calling model_fn.\n",
      "INFO:tensorflow:Graph was finalized.\n",
      "INFO:tensorflow:Restoring parameters from /tmp/tmpcgr94ed3/model.ckpt-7\n",
      "INFO:tensorflow:Running local_init_op.\n",
      "INFO:tensorflow:Done running local_init_op.\n"
     ]
    }
   ],
   "source": [
    "predictions = list(model.predict(input_fn=pred_input_func))"
   ]
  },
  {
   "cell_type": "markdown",
   "metadata": {},
   "source": [
    "Each item will look like this:"
   ]
  },
  {
   "cell_type": "code",
   "execution_count": 19,
   "metadata": {},
   "outputs": [
    {
     "data": {
      "text/plain": [
       "{'class_ids': array([1]),\n",
       " 'classes': array([b'1'], dtype=object),\n",
       " 'logistic': array([0.5407273], dtype=float32),\n",
       " 'logits': array([0.16327101], dtype=float32),\n",
       " 'probabilities': array([0.45927265, 0.5407273 ], dtype=float32)}"
      ]
     },
     "execution_count": 19,
     "metadata": {},
     "output_type": "execute_result"
    }
   ],
   "source": [
    "predictions[0]"
   ]
  },
  {
   "cell_type": "markdown",
   "metadata": {},
   "source": [
    "** Create a list of only the class_ids key values from the prediction list of dictionaries, these are the predictions you will use to compare against the real y_test values. **"
   ]
  },
  {
   "cell_type": "code",
   "execution_count": 20,
   "metadata": {},
   "outputs": [],
   "source": [
    "final_preds = [pred['class_ids'][0] for pred in predictions]"
   ]
  },
  {
   "cell_type": "code",
   "execution_count": 21,
   "metadata": {},
   "outputs": [
    {
     "data": {
      "text/plain": [
       "[1, 0, 0, 1, 0, 0, 1, 1, 0, 0]"
      ]
     },
     "execution_count": 21,
     "metadata": {},
     "output_type": "execute_result"
    }
   ],
   "source": [
    "final_preds[:10]"
   ]
  },
  {
   "cell_type": "code",
   "execution_count": 22,
   "metadata": {},
   "outputs": [
    {
     "name": "stdout",
     "output_type": "stream",
     "text": [
      "             precision    recall  f1-score   support\n",
      "\n",
      "          0       0.41      0.54      0.47        13\n",
      "          1       0.54      0.41      0.47        17\n",
      "\n",
      "avg / total       0.48      0.47      0.47        30\n",
      "\n"
     ]
    }
   ],
   "source": [
    "from sklearn.metrics import classification_report\n",
    "print(classification_report(y_test, final_preds))"
   ]
  },
  {
   "cell_type": "markdown",
   "metadata": {},
   "source": [
    "So bad! But again, this is mock data"
   ]
  },
  {
   "cell_type": "markdown",
   "metadata": {},
   "source": [
    "## How can I assess which features are the most important?"
   ]
  },
  {
   "cell_type": "code",
   "execution_count": 23,
   "metadata": {},
   "outputs": [
    {
     "data": {
      "text/plain": [
       "['global_step',\n",
       " 'linear/linear_model/Adviser_Code/weights',\n",
       " 'linear/linear_model/Adviser_Code/weights/part_0/Ftrl',\n",
       " 'linear/linear_model/Adviser_Code/weights/part_0/Ftrl_1',\n",
       " 'linear/linear_model/Adviser_Or_Direct/weights',\n",
       " 'linear/linear_model/Adviser_Or_Direct/weights/part_0/Ftrl',\n",
       " 'linear/linear_model/Adviser_Or_Direct/weights/part_0/Ftrl_1',\n",
       " 'linear/linear_model/Business_Line/weights',\n",
       " 'linear/linear_model/Business_Line/weights/part_0/Ftrl',\n",
       " 'linear/linear_model/Business_Line/weights/part_0/Ftrl_1',\n",
       " 'linear/linear_model/Fundraise_Name/weights',\n",
       " 'linear/linear_model/Fundraise_Name/weights/part_0/Ftrl',\n",
       " 'linear/linear_model/Fundraise_Name/weights/part_0/Ftrl_1',\n",
       " 'linear/linear_model/Intermediary_Code/weights',\n",
       " 'linear/linear_model/Intermediary_Code/weights/part_0/Ftrl',\n",
       " 'linear/linear_model/Intermediary_Code/weights/part_0/Ftrl_1',\n",
       " 'linear/linear_model/Investor_Code/weights',\n",
       " 'linear/linear_model/Investor_Code/weights/part_0/Ftrl',\n",
       " 'linear/linear_model/Investor_Code/weights/part_0/Ftrl_1',\n",
       " 'linear/linear_model/bias_weights',\n",
       " 'linear/linear_model/bias_weights/part_0/Ftrl',\n",
       " 'linear/linear_model/bias_weights/part_0/Ftrl_1']"
      ]
     },
     "execution_count": 23,
     "metadata": {},
     "output_type": "execute_result"
    }
   ],
   "source": [
    "model.get_variable_names()"
   ]
  },
  {
   "cell_type": "code",
   "execution_count": 24,
   "metadata": {},
   "outputs": [],
   "source": [
    "wt_vals = [model.get_variable_value(name) for name in model.get_variable_names()[1:]]"
   ]
  },
  {
   "cell_type": "code",
   "execution_count": null,
   "metadata": {},
   "outputs": [],
   "source": []
  },
  {
   "cell_type": "code",
   "execution_count": 34,
   "metadata": {},
   "outputs": [
    {
     "data": {
      "image/png": "[encoded data removed]",
      "text/plain": [
       "<Figure size 432x288 with 1 Axes>"
      ]
     },
     "metadata": {},
     "output_type": "display_data"
    }
   ],
   "source": [
    "business_line_weights = model.get_variable_value('linear/linear_model/Business_Line/weights').flatten()\n",
    "keys = pipeline['Business_Line'].value_counts().keys()\n",
    "\n",
    "pd.DataFrame({'Weights':business_line_weights}).sort_values('Weights', ascending=True).plot(kind=\"barh\", grid=False);\n"
   ]
  },
  {
   "cell_type": "markdown",
   "metadata": {},
   "source": [
    "This implies the likelihood of an opportunity being won (according to the model), based on the Business Line feature"
   ]
  },
  {
   "cell_type": "code",
   "execution_count": null,
   "metadata": {},
   "outputs": [],
   "source": []
  }
 ],
 "metadata": {
  "kernelspec": {
   "display_name": "Python 3",
   "language": "python",
   "name": "python3"
  },
  "language_info": {
   "codemirror_mode": {
    "name": "ipython",
    "version": 3
   },
   "file_extension": ".py",
   "mimetype": "text/x-python",
   "name": "python",
   "nbconvert_exporter": "python",
   "pygments_lexer": "ipython3",
   "version": "3.6.4"
  }
 },
 "nbformat": 4,
 "nbformat_minor": 2
}
