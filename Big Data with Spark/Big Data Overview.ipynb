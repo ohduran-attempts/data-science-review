{
 "cells": [
  {
   "cell_type": "markdown",
   "metadata": {},
   "source": [
    "# Big Data Overview"
   ]
  },
  {
   "cell_type": "markdown",
   "metadata": {},
   "source": [
    "This section will cover:\n",
    "    \n",
    "- Explanation of Hadoop, MapReduce, Spark and PySpark\n",
    "- Local versus Distributed Systems\n",
    "- Overview of Hadoop Ecosystem\n",
    "- Detailed overview of Spark\n",
    "- Set-up on AWS\n",
    "- Resources on other Spark options\n",
    "- Notes on PySpark and RDDs"
   ]
  },
  {
   "cell_type": "markdown",
   "metadata": {},
   "source": [
    "So far we have worked with data that can fit on a local computer. But what can we do if we have a larger set of data?\n",
    "\n",
    "- Try using a SQL database to move storage onto a hard drive instead of RAM\n",
    "- Or try using a distributed system, that distributes the data to multiple computers\n",
    "\n"
   ]
  },
  {
   "cell_type": "markdown",
   "metadata": {},
   "source": [
    "Distributed system means controlling the ouput of several machines from one computer. A distributed process has access to the computational resources across a number of machines connected through a network. After a certain point, it's easier to scale out many lower CPUs, than try to scale up a single one."
   ]
  },
  {
   "cell_type": "markdown",
   "metadata": {},
   "source": [
    "- Distributed machines can also scale very easily (just add more machines)\n",
    "- Distributed machines include fault tolerance (if one machine fails, the network can still go on)"
   ]
  },
  {
   "cell_type": "markdown",
   "metadata": {},
   "source": [
    "## Hadoop"
   ]
  },
  {
   "cell_type": "markdown",
   "metadata": {},
   "source": [
    "Hadoop is a way to distribute very large files across multiple machines. It uses the Hadoop Distributed File System (HDFS).\n",
    "- Allows a user to work with large datasets.\n",
    "- Duplicates blocks of data for fault tolerance.\n",
    "- Uses MapReduce (allows computation on that data)."
   ]
  },
  {
   "cell_type": "code",
   "execution_count": null,
   "metadata": {},
   "outputs": [],
   "source": []
  }
 ],
 "metadata": {
  "kernelspec": {
   "display_name": "Python 3",
   "language": "python",
   "name": "python3"
  },
  "language_info": {
   "codemirror_mode": {
    "name": "ipython",
    "version": 3
   },
   "file_extension": ".py",
   "mimetype": "text/x-python",
   "name": "python",
   "nbconvert_exporter": "python",
   "pygments_lexer": "ipython3",
   "version": "3.6.4"
  }
 },
 "nbformat": 4,
 "nbformat_minor": 2
}
