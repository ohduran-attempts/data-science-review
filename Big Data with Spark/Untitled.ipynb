{
 "cells": [
  {
   "cell_type": "markdown",
   "metadata": {},
   "source": [
    "# Big Data Overview"
   ]
  },
  {
   "cell_type": "markdown",
   "metadata": {},
   "source": [
    "This section will cover:\n",
    "    \n",
    "- Explanation of Hadoop, MapReduce, Spark and PySpark\n",
    "- Local versus Distributed Systems\n",
    "- Overview of Hadoop Ecosystem\n",
    "- Detailed overview of Spark\n",
    "- Set-up on AWS\n",
    "- Resources on other Spark options\n",
    "- Notes on PySpark and RDDs"
   ]
  },
  {
   "cell_type": "markdown",
   "metadata": {},
   "source": [
    "So far we have worked with data that can fit on a local computer. But what can we do if we have a larger set of data?\n",
    "\n",
    "- Try using a SQL database to move storage onto a hard drive instead of RAM\n",
    "- Or try using a distributed system, that distributes the data to multiple computers\n",
    "\n"
   ]
  }
 ],
 "metadata": {
  "kernelspec": {
   "display_name": "Python 3",
   "language": "python",
   "name": "python3"
  },
  "language_info": {
   "codemirror_mode": {
    "name": "ipython",
    "version": 3
   },
   "file_extension": ".py",
   "mimetype": "text/x-python",
   "name": "python",
   "nbconvert_exporter": "python",
   "pygments_lexer": "ipython3",
   "version": "3.6.4"
  }
 },
 "nbformat": 4,
 "nbformat_minor": 2
}
