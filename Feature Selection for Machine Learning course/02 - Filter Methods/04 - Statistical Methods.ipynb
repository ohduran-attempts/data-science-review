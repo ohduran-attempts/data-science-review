{
 "cells": [
  {
   "cell_type": "markdown",
   "metadata": {},
   "source": [
    "# Statistical Methods\n",
    "\n",
    "The idea behind statistical methods is how each one of them are important to discriminate a given target. These methods are performed in two steps:\n",
    "\n",
    "1. Rank features based on certain criteria or metric.\n",
    "2. Select features with highest rankings. How many is somewhat arbitrary.\n",
    "\n",
    "These are fast, but do not contemplate feature redundancy. You will have to screen for redundancy using other methods.\n",
    "\n",
    "- Mutual Information\n",
    "\n",
    "Measures the mutual dependence of 2 variables, determining how similar the joint distribution p(v1, v2) is to the products of individual distributions p(v1) and p(v2): how similar is the probability of v1 and v2 occurring compared to occurring v1 then v2.\n",
    "\n",
    "If they are independent, their Mutual Information score is zero; otherwise, the score is the uncertainty in each of the variables.\n",
    "\n",
    "- Fisher score\n",
    "\n",
    "Measures the depoendence of 2 variables. It's suited for categorical variables, given that the target should be binary, and variables mustn't be negative (typically booleans).\n",
    "\n",
    "It compares observed distributions of class among the different labels against the expected one.\n",
    "\n",
    "- Univariate Test (ANOVA)\n",
    "\n",
    "It measures the dependence of 2 continued variables, with a binary target (sklearn extends to continuous values with a trick). Assumes linear relationship between variable and target, and also normality. It however is sensible to the sample size.\n",
    "\n"
   ]
  }
 ],
 "metadata": {
  "kernelspec": {
   "display_name": "Python 3",
   "language": "python",
   "name": "python3"
  },
  "language_info": {
   "codemirror_mode": {
    "name": "ipython",
    "version": 3
   },
   "file_extension": ".py",
   "mimetype": "text/x-python",
   "name": "python",
   "nbconvert_exporter": "python",
   "pygments_lexer": "ipython3",
   "version": "3.6.4"
  }
 },
 "nbformat": 4,
 "nbformat_minor": 2
}
