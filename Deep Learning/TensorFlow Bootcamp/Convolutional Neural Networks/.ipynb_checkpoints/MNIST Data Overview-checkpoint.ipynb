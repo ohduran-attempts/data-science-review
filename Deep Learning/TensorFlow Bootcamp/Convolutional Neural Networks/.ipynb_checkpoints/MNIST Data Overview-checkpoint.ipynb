{
 "cells": [
  {
   "cell_type": "markdown",
   "metadata": {},
   "source": [
    "# MNIST Data Overview"
   ]
  },
  {
   "cell_type": "markdown",
   "metadata": {},
   "source": [
    "A classic data set in Deep Learning is the MNIST Data set.\n",
    "\n",
    "TF has\n",
    " - 55,000 training images\n",
    " - 10,000 test images\n",
    " - 5,000 validation images\n",
    " \n",
    " It contains hand-written images of digits from 0 to 9 as 28x28 arrays with grey scale pixels. We can flatten this array to a 1-D vector of 784 = 28 x 28 numbers. Flattening out the image ends up removing some of the 2-D information, such as the relationship of a pixel to its neighbouring pixels, which for now it's fine, but will come haunting us for CNN."
   ]
  },
  {
   "cell_type": "markdown",
   "metadata": {},
   "source": [
    "We can think of the entire group of images as a tensor. 784 pixels x 55,000 images. For the labels we are using One-Hot encoding: instead of having labels such as \"One\", \"Two\", ..., we will have a single array for each image, all zeros but the related index (from 0 to 9) marked as 1.\n",
    "\n",
    "As a result, the labels for the training data ends up being a large 2-D array."
   ]
  },
  {
   "cell_type": "code",
   "execution_count": null,
   "metadata": {},
   "outputs": [],
   "source": []
  }
 ],
 "metadata": {
  "kernelspec": {
   "display_name": "Python 3",
   "language": "python",
   "name": "python3"
  },
  "language_info": {
   "codemirror_mode": {
    "name": "ipython",
    "version": 3
   },
   "file_extension": ".py",
   "mimetype": "text/x-python",
   "name": "python",
   "nbconvert_exporter": "python",
   "pygments_lexer": "ipython3",
   "version": "3.6.4"
  }
 },
 "nbformat": 4,
 "nbformat_minor": 2
}
