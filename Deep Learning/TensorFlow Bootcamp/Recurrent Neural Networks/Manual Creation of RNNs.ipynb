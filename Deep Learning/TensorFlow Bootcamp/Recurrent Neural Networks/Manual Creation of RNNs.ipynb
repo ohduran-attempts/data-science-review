{
 "cells": [
  {
   "cell_type": "markdown",
   "metadata": {},
   "source": [
    "# Manual Creation of RNNs"
   ]
  },
  {
   "cell_type": "markdown",
   "metadata": {},
   "source": [
    "We are going to create a 3 neuron RNN layer with TensorFlow. The main idea to focus on here is the input format of the data.\n",
    "\n",
    "- We will run the RNN for 2 batches of data: t=0 and t=1\n",
    "- Each RNN has 2 sets of weights:\n",
    "    - Wx for input weights on X\n",
    "    - Wy for weights on ouput of original X\n",
    "\n",
    "t = 0     t = 1    t = 2     t = 3     t = 4\n",
    "\n",
    "The,      brown,    fox,      is,      quick.\n",
    "\n",
    "The,      red,      fox,      jumped,   high.\n",
    "\n",
    "words_0 = The, The\n",
    "\n",
    "words_1 = brown, red\n",
    "\n",
    "words_2 = fox, fox\n",
    "\n",
    "words_3 = is, jumped\n",
    "\n",
    "words_4 = quick, high\n",
    "\n",
    "batches = 5\n",
    "\n",
    "batch_size = 2\n",
    "\n",
    "time_steps = 5"
   ]
  },
  {
   "cell_type": "code",
   "execution_count": 2,
   "metadata": {},
   "outputs": [],
   "source": [
    "import tensorflow as tf\n",
    "import numpy as np\n",
    "import matplotlib.pyplot as plt\n",
    "%matplotlib inline"
   ]
  },
  {
   "cell_type": "code",
   "execution_count": 3,
   "metadata": {},
   "outputs": [],
   "source": [
    "# Constants\n",
    "num_inputs = 2\n",
    "num_neurons = 3"
   ]
  },
  {
   "cell_type": "code",
   "execution_count": 4,
   "metadata": {},
   "outputs": [],
   "source": [
    "# Placeholders\n",
    "x0 = tf.placeholder(tf.float32, shape=[None, num_inputs])\n",
    "x1 = tf.placeholder(tf.float32, shape=[None, num_inputs])"
   ]
  },
  {
   "cell_type": "code",
   "execution_count": 5,
   "metadata": {},
   "outputs": [],
   "source": [
    "# Variables\n",
    "Wx = tf.Variable(tf.random_normal(shape=[num_inputs, num_neurons]))\n",
    "Wy = tf.Variable(tf.random_normal(shape=[num_neurons, num_neurons]))\n",
    "b = tf.Variable(tf.zeros([1, num_neurons]))"
   ]
  },
  {
   "cell_type": "code",
   "execution_count": 6,
   "metadata": {},
   "outputs": [],
   "source": [
    "# Graphs\n",
    "y0 = tf.tanh(tf.matmul(x0, Wx) + b)\n",
    "y1 = tf.tanh(tf.matmul(y0, Wy) + tf.matmul(x1, Wx) + b) # unrolled NN"
   ]
  },
  {
   "cell_type": "code",
   "execution_count": 7,
   "metadata": {},
   "outputs": [],
   "source": [
    "init = tf.global_variables_initializer()"
   ]
  },
  {
   "cell_type": "code",
   "execution_count": 8,
   "metadata": {},
   "outputs": [],
   "source": [
    "# Create Data\n",
    "\n",
    "# t=0\n",
    "x0_batch = np.array([[0,1], [2,3], [4,5]])\n",
    "\n",
    "# t=1\n",
    "x1_batch = np.array([[0,101], [102,103], [104,105]])"
   ]
  },
  {
   "cell_type": "code",
   "execution_count": 9,
   "metadata": {},
   "outputs": [],
   "source": [
    "with tf.Session() as sess:\n",
    "    \n",
    "    sess.run(init)\n",
    "    \n",
    "    y0_output_vals, y1_output_vals = sess.run([y0, y1], feed_dict={x0:x0_batch, x1:x1_batch})"
   ]
  },
  {
   "cell_type": "code",
   "execution_count": 10,
   "metadata": {},
   "outputs": [
    {
     "data": {
      "text/plain": [
       "(array([[ 0.25093922,  0.3103168 ,  0.7225567 ],\n",
       "        [-0.9875186 , -0.10090676,  0.9993829 ],\n",
       "        [-0.99995273, -0.48031884,  0.9999988 ]], dtype=float32),\n",
       " array([[ 1.,  1.,  1.],\n",
       "        [-1., -1.,  1.],\n",
       "        [-1., -1.,  1.]], dtype=float32))"
      ]
     },
     "execution_count": 10,
     "metadata": {},
     "output_type": "execute_result"
    }
   ],
   "source": [
    "y0_output_vals, y1_output_vals"
   ]
  },
  {
   "cell_type": "markdown",
   "metadata": {},
   "source": [
    "This obviously won't scale for t=1000, given that I need to manually unroll each step..."
   ]
  },
  {
   "cell_type": "code",
   "execution_count": null,
   "metadata": {},
   "outputs": [],
   "source": []
  }
 ],
 "metadata": {
  "kernelspec": {
   "display_name": "Python 3",
   "language": "python",
   "name": "python3"
  },
  "language_info": {
   "codemirror_mode": {
    "name": "ipython",
    "version": 3
   },
   "file_extension": ".py",
   "mimetype": "text/x-python",
   "name": "python",
   "nbconvert_exporter": "python",
   "pygments_lexer": "ipython3",
   "version": "3.6.4"
  }
 },
 "nbformat": 4,
 "nbformat_minor": 2
}
