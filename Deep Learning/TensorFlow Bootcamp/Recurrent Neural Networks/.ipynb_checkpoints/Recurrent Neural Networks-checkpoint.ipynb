{
 "cells": [
  {
   "cell_type": "markdown",
   "metadata": {},
   "source": [
    "# Recurrent Neural Networks"
   ]
  },
  {
   "cell_type": "markdown",
   "metadata": {},
   "source": [
    "We've used Neural Networks to solve classification and regression problems, but we still haven't seen how Neural Networks can deal with sequence information, such as a time series.\n",
    "\n",
    "For this, we use RNNs."
   ]
  },
  {
   "cell_type": "markdown",
   "metadata": {},
   "source": [
    "### Examples of Sequences\n",
    "\n",
    "- Time Series data\n",
    "- Sentences within NPL\n",
    "- Audio\n",
    "- Car Trajectories\n",
    "- Music\n",
    "- etc..."
   ]
  },
  {
   "cell_type": "markdown",
   "metadata": {},
   "source": [
    "## Introduction"
   ]
  },
  {
   "cell_type": "markdown",
   "metadata": {},
   "source": [
    "Let's imagine a sequence `[1, 2, 3, 4, 5, 6]`. Would you be able to predict a similar sequence shifted one time step into the future? Sure, it's `[2,3,4,5,6,7]`!\n",
    "\n",
    "Instead of Normal Neural Networks, we use Recurrent Neural Networks. RNNs are special in the sense that **RNNs send output back to itself, as well as to the next layer**. Input as t, t-1 and t+1 produce a different response: unrolling the recurrent network.\n",
    "\n",
    "Cells that are a function of inputs from previous time steps are also known as *memory cells*. RNNs are also flexible in their inputs and outputs, for both sequences and single vector values.\n",
    "\n",
    "We can also create layers of RNNs that feedback to each other and to the complete layer: given that we are passing information from different points in time, we can say that **RNNs have some sort of memory**.\n",
    "\n",
    "We can now perform\n",
    "- Sequence input to sequence ouput\n",
    "- Sequence to vector (sentiment analysis)\n",
    "- Vector to sequence (image and get a description of the image)"
   ]
  },
  {
   "cell_type": "code",
   "execution_count": null,
   "metadata": {},
   "outputs": [],
   "source": []
  }
 ],
 "metadata": {
  "kernelspec": {
   "display_name": "Python 3",
   "language": "python",
   "name": "python3"
  },
  "language_info": {
   "codemirror_mode": {
    "name": "ipython",
    "version": 3
   },
   "file_extension": ".py",
   "mimetype": "text/x-python",
   "name": "python",
   "nbconvert_exporter": "python",
   "pygments_lexer": "ipython3",
   "version": "3.6.4"
  }
 },
 "nbformat": 4,
 "nbformat_minor": 2
}
