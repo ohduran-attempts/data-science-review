{
 "cells": [
  {
   "cell_type": "markdown",
   "metadata": {},
   "source": [
    "# The Perceptron"
   ]
  },
  {
   "cell_type": "markdown",
   "metadata": {},
   "source": [
    "Before we launch straight into neural networks, we need to understand the individual components first, such as the single \"neuron\".\n",
    "\n",
    "Artificial Neural Networks (ANN) have a basis in biology, as an attempt to mimic biological neurons.\n",
    "\n",
    "We have inputs and an ouput. Inputs are multiplied by a weight (initialised by a random numbers), and the results are passed to an activation function, that uniquely determines the ouput. One of the inputs may be something called \"bias\", that accounts for cases where the activation function does not determine the result of a certain case of inputs."
   ]
  },
  {
   "cell_type": "markdown",
   "metadata": {},
   "source": [
    "`output = activation_function(sum(weights * inputs) + biases)`"
   ]
  },
  {
   "cell_type": "code",
   "execution_count": null,
   "metadata": {},
   "outputs": [],
   "source": []
  }
 ],
 "metadata": {
  "kernelspec": {
   "display_name": "Python 3",
   "language": "python",
   "name": "python3"
  },
  "language_info": {
   "codemirror_mode": {
    "name": "ipython",
    "version": 3
   },
   "file_extension": ".py",
   "mimetype": "text/x-python",
   "name": "python",
   "nbconvert_exporter": "python",
   "pygments_lexer": "ipython3",
   "version": "3.6.4"
  }
 },
 "nbformat": 4,
 "nbformat_minor": 2
}
