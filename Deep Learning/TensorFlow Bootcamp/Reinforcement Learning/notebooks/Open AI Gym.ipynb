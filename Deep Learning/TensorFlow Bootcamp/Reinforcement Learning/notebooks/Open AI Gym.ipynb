{
 "cells": [
  {
   "cell_type": "markdown",
   "metadata": {},
   "source": [
    "# OpenAI Gym\n",
    "\n",
    "[OpenAI](https://openai.com/) is a non-profit AI research company, discovering and enacting the path to safe artificial general intelligence.\n",
    "\n",
    "[OpenAI Gym](https://gy.openai.com) is a toolkit that aids in developing and comparing reinforcement learning algorithms. The library includes a collection of environments that you can use with your reinforcement learning algorithms. The Service will allow us to compare performance."
   ]
  },
  {
   "cell_type": "code",
   "execution_count": null,
   "metadata": {},
   "outputs": [],
   "source": []
  }
 ],
 "metadata": {
  "kernelspec": {
   "display_name": "Python 3",
   "language": "python",
   "name": "python3"
  },
  "language_info": {
   "codemirror_mode": {
    "name": "ipython",
    "version": 3
   },
   "file_extension": ".py",
   "mimetype": "text/x-python",
   "name": "python",
   "nbconvert_exporter": "python",
   "pygments_lexer": "ipython3",
   "version": "3.6.4"
  }
 },
 "nbformat": 4,
 "nbformat_minor": 2
}
