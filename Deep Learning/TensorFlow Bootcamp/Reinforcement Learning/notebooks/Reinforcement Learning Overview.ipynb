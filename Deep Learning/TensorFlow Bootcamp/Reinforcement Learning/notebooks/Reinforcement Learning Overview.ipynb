{
 "cells": [
  {
   "cell_type": "markdown",
   "metadata": {},
   "source": [
    "# Reinforcement Learning"
   ]
  },
  {
   "cell_type": "markdown",
   "metadata": {},
   "source": [
    "Reinforcement Learning allows machine and software agents to automatically determine the ideal behaviour within a specific context (such as a game), in order to maximize its performance.\n",
    "\n",
    "Simple reward feedback is required for the agent to learn its behaviour; this is known as the reinforcement signal. Not all of RL algorithms require TensorFlow.\n",
    "\n",
    "There are 4 main steps:\n",
    "\n",
    "- Agent\n",
    "\n",
    "What we are actually programming, and takes action and sees a reward based on those actions. An agent can receive inputs based off the environment, and perform actions.\n",
    "\n",
    "- Environment\n",
    "\n",
    "Where the actions get taken, the actual setting the agent is interacting with. It typically is a game, but it can be any real world or artificial environment.\n",
    "\n",
    "Previously it was very difficult to set this up, but that's why we are going to use OpenAI's gym library to solve this.\n",
    "\n",
    "- Action\n",
    "\n",
    "The actual interaction the agent will perform on the environment.\n",
    "\n",
    "- Reward\n",
    "\n",
    "The metric that allows the agent to understand whether or not the previous sets of actions helped or hurt in its overall goal.\n",
    "\n",
    "The OpenAI Gym works with variables designed to fit within this framework, allowing us to focus on model building.\n",
    "\n"
   ]
  }
 ],
 "metadata": {
  "kernelspec": {
   "display_name": "Python 3",
   "language": "python",
   "name": "python3"
  },
  "language_info": {
   "codemirror_mode": {
    "name": "ipython",
    "version": 3
   },
   "file_extension": ".py",
   "mimetype": "text/x-python",
   "name": "python",
   "nbconvert_exporter": "python",
   "pygments_lexer": "ipython3",
   "version": "3.6.4"
  }
 },
 "nbformat": 4,
 "nbformat_minor": 2
}
