{
 "cells": [
  {
   "cell_type": "code",
   "execution_count": 1,
   "metadata": {},
   "outputs": [],
   "source": [
    "import pandas as pd\n",
    "import numpy as np\n",
    "import matplotlib.pyplot as plt\n",
    "import seaborn as sns\n",
    "%matplotlib inline"
   ]
  },
  {
   "cell_type": "code",
   "execution_count": 2,
   "metadata": {},
   "outputs": [
    {
     "name": "stderr",
     "output_type": "stream",
     "text": [
      "/home/alvaro/anaconda/lib/python3.6/site-packages/h5py/__init__.py:36: FutureWarning: Conversion of the second argument of issubdtype from `float` to `np.floating` is deprecated. In future, it will be treated as `np.float64 == np.dtype(float).type`.\n",
      "  from ._conv import register_converters as _register_converters\n"
     ]
    }
   ],
   "source": [
    "import tensorflow as tf"
   ]
  },
  {
   "cell_type": "code",
   "execution_count": 3,
   "metadata": {},
   "outputs": [],
   "source": [
    "pipeline = pd.read_csv('Pipeline Mock Data.csv')"
   ]
  },
  {
   "cell_type": "code",
   "execution_count": 4,
   "metadata": {},
   "outputs": [
    {
     "data": {
      "text/html": [
       "<div>\n",
       "<style scoped>\n",
       "    .dataframe tbody tr th:only-of-type {\n",
       "        vertical-align: middle;\n",
       "    }\n",
       "\n",
       "    .dataframe tbody tr th {\n",
       "        vertical-align: top;\n",
       "    }\n",
       "\n",
       "    .dataframe thead th {\n",
       "        text-align: right;\n",
       "    }\n",
       "</style>\n",
       "<table border=\"1\" class=\"dataframe\">\n",
       "  <thead>\n",
       "    <tr style=\"text-align: right;\">\n",
       "      <th></th>\n",
       "      <th>Key</th>\n",
       "      <th>OpportunityKey</th>\n",
       "      <th>Business_Line</th>\n",
       "      <th>Fundraise_Name</th>\n",
       "      <th>Adviser_Or_Direct</th>\n",
       "      <th>Adviser_Code</th>\n",
       "      <th>Investor_Code</th>\n",
       "      <th>Intermediary_Code</th>\n",
       "      <th>OpportunityStatus</th>\n",
       "    </tr>\n",
       "  </thead>\n",
       "  <tbody>\n",
       "    <tr>\n",
       "      <th>0</th>\n",
       "      <td>1</td>\n",
       "      <td>757</td>\n",
       "      <td>IHT</td>\n",
       "      <td>Fundraiser_1</td>\n",
       "      <td>Direct</td>\n",
       "      <td>CON55826</td>\n",
       "      <td>CON47206</td>\n",
       "      <td>COM87187</td>\n",
       "      <td>Lost</td>\n",
       "    </tr>\n",
       "    <tr>\n",
       "      <th>1</th>\n",
       "      <td>2</td>\n",
       "      <td>792</td>\n",
       "      <td>AIM</td>\n",
       "      <td>Fundraiser_1</td>\n",
       "      <td>Direct</td>\n",
       "      <td>CON24585</td>\n",
       "      <td>CON30574</td>\n",
       "      <td>COM54565</td>\n",
       "      <td>Won</td>\n",
       "    </tr>\n",
       "    <tr>\n",
       "      <th>2</th>\n",
       "      <td>3</td>\n",
       "      <td>7</td>\n",
       "      <td>Labs</td>\n",
       "      <td>Fundraiser_5</td>\n",
       "      <td>Direct</td>\n",
       "      <td>CON86314</td>\n",
       "      <td>CON20624</td>\n",
       "      <td>COM86775</td>\n",
       "      <td>Lost</td>\n",
       "    </tr>\n",
       "    <tr>\n",
       "      <th>3</th>\n",
       "      <td>4</td>\n",
       "      <td>993</td>\n",
       "      <td>Labs</td>\n",
       "      <td>Fundraiser_0</td>\n",
       "      <td>Adviser</td>\n",
       "      <td>CON21625</td>\n",
       "      <td>CON48922</td>\n",
       "      <td>COM42671</td>\n",
       "      <td>Won</td>\n",
       "    </tr>\n",
       "    <tr>\n",
       "      <th>4</th>\n",
       "      <td>5</td>\n",
       "      <td>968</td>\n",
       "      <td>OITS</td>\n",
       "      <td>Fundraiser_7</td>\n",
       "      <td>Direct</td>\n",
       "      <td>CON57508</td>\n",
       "      <td>CON98028</td>\n",
       "      <td>COM60911</td>\n",
       "      <td>Lost</td>\n",
       "    </tr>\n",
       "  </tbody>\n",
       "</table>\n",
       "</div>"
      ],
      "text/plain": [
       "   Key  OpportunityKey Business_Line Fundraise_Name Adviser_Or_Direct  \\\n",
       "0    1             757           IHT   Fundraiser_1            Direct   \n",
       "1    2             792           AIM   Fundraiser_1            Direct   \n",
       "2    3               7          Labs   Fundraiser_5            Direct   \n",
       "3    4             993          Labs   Fundraiser_0           Adviser   \n",
       "4    5             968          OITS   Fundraiser_7            Direct   \n",
       "\n",
       "  Adviser_Code Investor_Code Intermediary_Code OpportunityStatus  \n",
       "0     CON55826      CON47206          COM87187              Lost  \n",
       "1     CON24585      CON30574          COM54565               Won  \n",
       "2     CON86314      CON20624          COM86775              Lost  \n",
       "3     CON21625      CON48922          COM42671               Won  \n",
       "4     CON57508      CON98028          COM60911              Lost  "
      ]
     },
     "execution_count": 4,
     "metadata": {},
     "output_type": "execute_result"
    }
   ],
   "source": [
    "pipeline.head()"
   ]
  },
  {
   "cell_type": "markdown",
   "metadata": {},
   "source": [
    "** TensorFlow won't be able to understand strings as labels, you'll need to use pandas .apply() method to apply a custom function that converts them to 0s and 1s. This might be hard if you aren't very familiar with pandas, so feel free to take a peek at the solutions for this part.**\n",
    "\n",
    "** Convert the Label column to 0s and 1s instead of strings.**"
   ]
  },
  {
   "cell_type": "code",
   "execution_count": null,
   "metadata": {},
   "outputs": [],
   "source": []
  }
 ],
 "metadata": {
  "kernelspec": {
   "display_name": "Python 3",
   "language": "python",
   "name": "python3"
  },
  "language_info": {
   "codemirror_mode": {
    "name": "ipython",
    "version": 3
   },
   "file_extension": ".py",
   "mimetype": "text/x-python",
   "name": "python",
   "nbconvert_exporter": "python",
   "pygments_lexer": "ipython3",
   "version": "3.6.4"
  }
 },
 "nbformat": 4,
 "nbformat_minor": 2
}
